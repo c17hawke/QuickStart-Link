{
 "cells": [
  {
   "cell_type": "markdown",
   "id": "6c047dbc-a8f5-466f-96de-db8186aa7fd5",
   "metadata": {
    "canvas": {
     "comments": [],
     "componentType": "CodeCell",
     "copiedOriginId": null,
     "diskcache": false,
     "headerColor": "inherit",
     "id": "d00f36e5-3653-4aa6-98ea-9dfab68191c0",
     "isComponent": false,
     "name": "",
     "parents": []
    }
   },
   "source": [
    "# Import Module"
   ]
  },
  {
   "cell_type": "code",
   "execution_count": 1,
   "id": "476450bc-81fe-4591-a026-eb817361854b",
   "metadata": {
    "canvas": {
     "comments": [],
     "componentType": "CodeCell",
     "copiedOriginId": null,
     "diskcache": true,
     "headerColor": "inherit",
     "id": "47862f15-8131-4f4f-a717-447c70e1c46d",
     "isComponent": true,
     "name": "Import modules",
     "parents": []
    },
    "tags": []
   },
   "outputs": [],
   "source": [
    "import tensorflow as tf\n",
    "import numpy as np\n",
    "import matplotlib.pyplot as plt\n",
    "import pandas as pd\n",
    "import seaborn as sns\n",
    "import warnings\n",
    "\n",
    "warnings.filterwarnings(\"ignore\")"
   ]
  },
  {
   "cell_type": "markdown",
   "id": "256d285c-29f9-42aa-990c-711336fe1523",
   "metadata": {
    "canvas": {
     "comments": [],
     "componentType": "CodeCell",
     "copiedOriginId": null,
     "diskcache": false,
     "headerColor": "inherit",
     "id": "f5695532-40a2-421b-8214-2854ab07865c",
     "isComponent": false,
     "name": "",
     "parents": []
    },
    "tags": []
   },
   "source": [
    "# Data Ingestion"
   ]
  },
  {
   "cell_type": "code",
   "execution_count": 2,
   "id": "583d494f-61ad-4936-a21b-68c765ebbb1c",
   "metadata": {
    "canvas": {
     "comments": [],
     "componentType": "CodeCell",
     "copiedOriginId": null,
     "diskcache": true,
     "headerColor": "inherit",
     "id": "69d57d3f-f200-41df-9ad8-5b9265fd9d9a",
     "isComponent": true,
     "name": "Data Ingestion",
     "parents": [
      {
       "id": "47862f15-8131-4f4f-a717-447c70e1c46d",
       "name": "Import modules"
      }
     ]
    },
    "tags": []
   },
   "outputs": [],
   "source": [
    "mnist = tf.keras.datasets.mnist"
   ]
  },
  {
   "cell_type": "markdown",
   "id": "c38730fb-b1bc-4568-94d5-6905c02d888c",
   "metadata": {
    "canvas": {
     "comments": [],
     "componentType": "CodeCell",
     "copiedOriginId": null,
     "diskcache": false,
     "headerColor": "inherit",
     "id": "459818d0-17d7-49dd-8290-67d521979c54",
     "isComponent": false,
     "name": "",
     "parents": []
    }
   },
   "source": [
    "# Split Data"
   ]
  },
  {
   "cell_type": "code",
   "execution_count": 3,
   "id": "166d5567-b3bd-43f9-958e-903e86145bbb",
   "metadata": {
    "canvas": {
     "comments": [],
     "componentType": "CodeCell",
     "copiedOriginId": null,
     "diskcache": true,
     "headerColor": "inherit",
     "id": "cc33679c-61b4-40aa-b9d4-c195c9ed5987",
     "isComponent": true,
     "name": "Split Data",
     "parents": [
      {
       "id": "69d57d3f-f200-41df-9ad8-5b9265fd9d9a",
       "name": "Data Ingestion"
      }
     ]
    },
    "tags": []
   },
   "outputs": [],
   "source": [
    "(X_train_full, y_train_full), (X_test, y_test) = mnist.load_data()\n",
    "X_valid, X_train = X_train_full[:5000]/255, X_train_full[5000:]/255\n",
    "y_valid, y_train = y_train_full[:5000], y_train_full[5000:]\n",
    "\n",
    "X_test = X_test/255 "
   ]
  },
  {
   "cell_type": "markdown",
   "id": "eaccc2e1-6890-460c-8d31-a576ffdf23da",
   "metadata": {
    "canvas": {
     "comments": [],
     "componentType": "CodeCell",
     "copiedOriginId": null,
     "diskcache": false,
     "headerColor": "inherit",
     "id": "0bd7dd2a-3aba-4f4e-9a2a-f3f4b333965c",
     "isComponent": false,
     "name": "",
     "parents": []
    }
   },
   "source": [
    "# Define model"
   ]
  },
  {
   "cell_type": "code",
   "execution_count": 4,
   "id": "324b2912-a812-4524-b034-e0d714c072f4",
   "metadata": {
    "canvas": {
     "comments": [],
     "componentType": "CodeCell",
     "copiedOriginId": null,
     "diskcache": true,
     "headerColor": "inherit",
     "id": "fd3e81ad-a3de-46e9-81d6-95644e91d7c1",
     "isComponent": true,
     "name": "Define model",
     "parents": [
      {
       "id": "cc33679c-61b4-40aa-b9d4-c195c9ed5987",
       "name": "Split Data"
      }
     ]
    },
    "tags": []
   },
   "outputs": [
    {
     "name": "stdout",
     "output_type": "stream",
     "text": [
      "Model: \"sequential\"\n",
      "_________________________________________________________________\n",
      " Layer (type)                Output Shape              Param #   \n",
      "=================================================================\n",
      " inputLayer (Flatten)        (None, 784)               0         \n",
      "                                                                 \n",
      " hiddenLayer01 (Dense)       (None, 300)               235500    \n",
      "                                                                 \n",
      " hiddenLayer02 (Dense)       (None, 100)               30100     \n",
      "                                                                 \n",
      " outputLayer (Dense)         (None, 10)                1010      \n",
      "                                                                 \n",
      "=================================================================\n",
      "Total params: 266,610\n",
      "Trainable params: 266,610\n",
      "Non-trainable params: 0\n",
      "_________________________________________________________________\n",
      "WARNING:tensorflow:Compiled the loaded model, but the compiled metrics have yet to be built. `model.compile_metrics` will be empty until you train or evaluate the model.\n"
     ]
    },
    {
     "name": "stderr",
     "output_type": "stream",
     "text": [
      "WARNING:absl:Function `_wrapped_model` contains input name(s) inputLayer_input with unsupported characters which will be renamed to inputlayer_input in the SavedModel.\n"
     ]
    },
    {
     "name": "stdout",
     "output_type": "stream",
     "text": [
      "INFO:tensorflow:Assets written to: ram://16c049ff-d631-4706-a3d5-380eba1a3e68/assets\n"
     ]
    },
    {
     "name": "stderr",
     "output_type": "stream",
     "text": [
      "INFO:tensorflow:Assets written to: ram://16c049ff-d631-4706-a3d5-380eba1a3e68/assets\n"
     ]
    }
   ],
   "source": [
    "CLASSES = len(np.unique(y_train))\n",
    "\n",
    "LAYERS = [\n",
    "    tf.keras.layers.Flatten(input_shape=(28, 28), name=\"inputLayer\"), # 784\n",
    "    tf.keras.layers.Dense(300, activation=\"relu\", name=\"hiddenLayer01\"), # 300\n",
    "    tf.keras.layers.Dense(100, activation=\"relu\", name=\"hiddenLayer02\"), # 100\n",
    "    tf.keras.layers.Dense(CLASSES, activation=\"softmax\", name=\"outputLayer\"), # 10\n",
    "]\n",
    "\n",
    "model_clf = tf.keras.models.Sequential(LAYERS)\n",
    "model_clf.summary()\n"
   ]
  },
  {
   "cell_type": "markdown",
   "id": "7528f65a-f7c9-4ed3-b19e-0e09a7d1be7a",
   "metadata": {
    "canvas": {
     "comments": [],
     "componentType": "CodeCell",
     "copiedOriginId": null,
     "diskcache": false,
     "headerColor": "inherit",
     "id": "64b9b6a5-3b01-43f7-8845-77d9a24d63c6",
     "isComponent": false,
     "name": "",
     "parents": []
    }
   },
   "source": [
    "# Compile model"
   ]
  },
  {
   "cell_type": "code",
   "execution_count": 5,
   "id": "8d09f10c-c0cf-4d98-89dc-3beec196c965",
   "metadata": {
    "canvas": {
     "comments": [],
     "componentType": "CodeCell",
     "copiedOriginId": null,
     "diskcache": true,
     "headerColor": "inherit",
     "id": "55b337b1-91fb-4d94-a25a-682533ccc5d3",
     "isComponent": true,
     "name": "Compile model",
     "parents": [
      {
       "id": "fd3e81ad-a3de-46e9-81d6-95644e91d7c1",
       "name": "Define model"
      }
     ]
    },
    "tags": []
   },
   "outputs": [
    {
     "name": "stdout",
     "output_type": "stream",
     "text": [
      "WARNING:tensorflow:Compiled the loaded model, but the compiled metrics have yet to be built. `model.compile_metrics` will be empty until you train or evaluate the model.\n"
     ]
    },
    {
     "name": "stderr",
     "output_type": "stream",
     "text": [
      "WARNING:tensorflow:Compiled the loaded model, but the compiled metrics have yet to be built. `model.compile_metrics` will be empty until you train or evaluate the model.\n",
      "WARNING:absl:Function `_wrapped_model` contains input name(s) inputLayer_input with unsupported characters which will be renamed to inputlayer_input in the SavedModel.\n"
     ]
    },
    {
     "name": "stdout",
     "output_type": "stream",
     "text": [
      "INFO:tensorflow:Assets written to: ram://898f7691-86b0-448e-a652-015adb697631/assets\n"
     ]
    },
    {
     "name": "stderr",
     "output_type": "stream",
     "text": [
      "INFO:tensorflow:Assets written to: ram://898f7691-86b0-448e-a652-015adb697631/assets\n",
      "WARNING:absl:Function `_wrapped_model` contains input name(s) inputLayer_input with unsupported characters which will be renamed to inputlayer_input in the SavedModel.\n"
     ]
    },
    {
     "name": "stdout",
     "output_type": "stream",
     "text": [
      "INFO:tensorflow:Assets written to: ram://b4e56762-4477-4886-8f78-0d9ff680dc20/assets\n"
     ]
    },
    {
     "name": "stderr",
     "output_type": "stream",
     "text": [
      "INFO:tensorflow:Assets written to: ram://b4e56762-4477-4886-8f78-0d9ff680dc20/assets\n"
     ]
    }
   ],
   "source": [
    "LOSS_FUNCTION = \"sparse_categorical_crossentropy\"\n",
    "OPTIMIZERS = \"SGD\"\n",
    "\n",
    "model_clf.compile(loss=LOSS_FUNCTION, optimizer=OPTIMIZERS)"
   ]
  },
  {
   "cell_type": "markdown",
   "id": "edc42bf8-59ab-4073-9b4a-d9cb478dfd09",
   "metadata": {
    "canvas": {
     "comments": [],
     "componentType": "CodeCell",
     "copiedOriginId": null,
     "diskcache": false,
     "headerColor": "inherit",
     "id": "74a741c5-2d49-4dbe-b8d4-057511623569",
     "isComponent": false,
     "name": "",
     "parents": []
    }
   },
   "source": [
    "# Train model"
   ]
  },
  {
   "cell_type": "code",
   "execution_count": 6,
   "id": "e99ce5d3-c937-4f27-b5bf-65f19c55b1d8",
   "metadata": {
    "canvas": {
     "comments": [],
     "componentType": "CodeCell",
     "copiedOriginId": null,
     "diskcache": true,
     "headerColor": "inherit",
     "id": "e6e8892c-588e-41ab-925d-aff5fccae9b5",
     "isComponent": true,
     "name": "Train model",
     "parents": [
      {
       "id": "55b337b1-91fb-4d94-a25a-682533ccc5d3",
       "name": "Compile model"
      }
     ]
    },
    "tags": []
   },
   "outputs": [
    {
     "name": "stdout",
     "output_type": "stream",
     "text": [
      "WARNING:tensorflow:Compiled the loaded model, but the compiled metrics have yet to be built. `model.compile_metrics` will be empty until you train or evaluate the model.\n"
     ]
    },
    {
     "name": "stderr",
     "output_type": "stream",
     "text": [
      "WARNING:tensorflow:Compiled the loaded model, but the compiled metrics have yet to be built. `model.compile_metrics` will be empty until you train or evaluate the model.\n",
      "WARNING:absl:Function `_wrapped_model` contains input name(s) inputLayer_input with unsupported characters which will be renamed to inputlayer_input in the SavedModel.\n"
     ]
    },
    {
     "name": "stdout",
     "output_type": "stream",
     "text": [
      "INFO:tensorflow:Assets written to: ram://2de35057-1f9e-47b5-83dd-2796d04bc6ea/assets\n"
     ]
    },
    {
     "name": "stderr",
     "output_type": "stream",
     "text": [
      "INFO:tensorflow:Assets written to: ram://2de35057-1f9e-47b5-83dd-2796d04bc6ea/assets\n",
      "WARNING:absl:Function `_wrapped_model` contains input name(s) inputLayer_input with unsupported characters which will be renamed to inputlayer_input in the SavedModel.\n"
     ]
    },
    {
     "name": "stdout",
     "output_type": "stream",
     "text": [
      "INFO:tensorflow:Assets written to: ram://2120c717-fba6-4526-82e2-60ea5b36ff64/assets\n"
     ]
    },
    {
     "name": "stderr",
     "output_type": "stream",
     "text": [
      "INFO:tensorflow:Assets written to: ram://2120c717-fba6-4526-82e2-60ea5b36ff64/assets\n"
     ]
    },
    {
     "name": "stdout",
     "output_type": "stream",
     "text": [
      "Epoch 1/5\n",
      "1719/1719 [==============================] - 9s 4ms/step - loss: 0.6041 - val_loss: 0.3027\n",
      "Epoch 2/5\n",
      "1719/1719 [==============================] - 6s 3ms/step - loss: 0.2875 - val_loss: 0.2356\n",
      "Epoch 3/5\n",
      "1719/1719 [==============================] - 6s 3ms/step - loss: 0.2344 - val_loss: 0.2038\n",
      "Epoch 4/5\n",
      "1719/1719 [==============================] - 6s 3ms/step - loss: 0.2006 - val_loss: 0.1784\n",
      "Epoch 5/5\n",
      "1719/1719 [==============================] - 6s 3ms/step - loss: 0.1756 - val_loss: 0.1569\n"
     ]
    },
    {
     "name": "stderr",
     "output_type": "stream",
     "text": [
      "WARNING:absl:Function `_wrapped_model` contains input name(s) inputLayer_input with unsupported characters which will be renamed to inputlayer_input in the SavedModel.\n"
     ]
    },
    {
     "name": "stdout",
     "output_type": "stream",
     "text": [
      "INFO:tensorflow:Assets written to: ram://0780917f-a9c2-4a84-b22f-0424cba46617/assets\n"
     ]
    },
    {
     "name": "stderr",
     "output_type": "stream",
     "text": [
      "INFO:tensorflow:Assets written to: ram://0780917f-a9c2-4a84-b22f-0424cba46617/assets\n",
      "WARNING:absl:Function `_wrapped_model` contains input name(s) inputLayer_input with unsupported characters which will be renamed to inputlayer_input in the SavedModel.\n"
     ]
    },
    {
     "name": "stdout",
     "output_type": "stream",
     "text": [
      "INFO:tensorflow:Assets written to: ram://3ddbb42e-9880-40a8-911b-caaebcae13ba/assets\n"
     ]
    },
    {
     "name": "stderr",
     "output_type": "stream",
     "text": [
      "INFO:tensorflow:Assets written to: ram://3ddbb42e-9880-40a8-911b-caaebcae13ba/assets\n"
     ]
    }
   ],
   "source": [
    "EPOCHS = 5\n",
    "\n",
    "VALIDATION = (X_valid, y_valid)\n",
    "\n",
    "history = model_clf.fit(\n",
    "    X_train,\n",
    "    y_train,\n",
    "    epochs = EPOCHS,\n",
    "    batch_size=32,\n",
    "    validation_data = VALIDATION\n",
    ")"
   ]
  },
  {
   "cell_type": "markdown",
   "id": "6ad74a5d-9f12-4786-ae15-eba4f5c634ff",
   "metadata": {
    "canvas": {
     "comments": [],
     "componentType": "CodeCell",
     "copiedOriginId": null,
     "diskcache": false,
     "headerColor": "inherit",
     "id": "f5c4f964-ea99-4eeb-a79c-be45c81cc4d9",
     "isComponent": false,
     "name": "",
     "parents": []
    }
   },
   "source": [
    "# Evaluate model"
   ]
  },
  {
   "cell_type": "code",
   "execution_count": 7,
   "id": "d3241103-d67e-4ba5-810f-a62f4929225d",
   "metadata": {
    "canvas": {
     "comments": [],
     "componentType": "CodeCell",
     "copiedOriginId": null,
     "diskcache": true,
     "headerColor": "inherit",
     "id": "5b1af4d5-950f-4bad-bfe1-f448ca1286b8",
     "isComponent": true,
     "name": "Evaluate model",
     "parents": [
      {
       "id": "e6e8892c-588e-41ab-925d-aff5fccae9b5",
       "name": "Train model"
      },
      {
       "id": "cc33679c-61b4-40aa-b9d4-c195c9ed5987",
       "name": "Split Data"
      }
     ]
    },
    "tags": []
   },
   "outputs": [
    {
     "name": "stdout",
     "output_type": "stream",
     "text": [
      "WARNING:tensorflow:Compiled the loaded model, but the compiled metrics have yet to be built. `model.compile_metrics` will be empty until you train or evaluate the model.\n"
     ]
    },
    {
     "name": "stderr",
     "output_type": "stream",
     "text": [
      "WARNING:tensorflow:Compiled the loaded model, but the compiled metrics have yet to be built. `model.compile_metrics` will be empty until you train or evaluate the model.\n",
      "WARNING:absl:Function `_wrapped_model` contains input name(s) inputLayer_input with unsupported characters which will be renamed to inputlayer_input in the SavedModel.\n"
     ]
    },
    {
     "name": "stdout",
     "output_type": "stream",
     "text": [
      "INFO:tensorflow:Assets written to: ram://09cc7505-52e2-450c-9cbc-616e6ca57d2b/assets\n"
     ]
    },
    {
     "name": "stderr",
     "output_type": "stream",
     "text": [
      "INFO:tensorflow:Assets written to: ram://09cc7505-52e2-450c-9cbc-616e6ca57d2b/assets\n",
      "WARNING:absl:Function `_wrapped_model` contains input name(s) inputLayer_input with unsupported characters which will be renamed to inputlayer_input in the SavedModel.\n"
     ]
    },
    {
     "name": "stdout",
     "output_type": "stream",
     "text": [
      "INFO:tensorflow:Assets written to: ram://89552a25-90e1-43df-a022-d206ebce015e/assets\n"
     ]
    },
    {
     "name": "stderr",
     "output_type": "stream",
     "text": [
      "INFO:tensorflow:Assets written to: ram://89552a25-90e1-43df-a022-d206ebce015e/assets\n",
      "WARNING:absl:Function `_wrapped_model` contains input name(s) inputLayer_input with unsupported characters which will be renamed to inputlayer_input in the SavedModel.\n"
     ]
    },
    {
     "name": "stdout",
     "output_type": "stream",
     "text": [
      "INFO:tensorflow:Assets written to: ram://48f46fd5-44c2-41b8-9950-8c6a6b5bd036/assets\n"
     ]
    },
    {
     "name": "stderr",
     "output_type": "stream",
     "text": [
      "INFO:tensorflow:Assets written to: ram://48f46fd5-44c2-41b8-9950-8c6a6b5bd036/assets\n",
      "WARNING:absl:Function `_wrapped_model` contains input name(s) inputLayer_input with unsupported characters which will be renamed to inputlayer_input in the SavedModel.\n"
     ]
    },
    {
     "name": "stdout",
     "output_type": "stream",
     "text": [
      "INFO:tensorflow:Assets written to: ram://b08652bf-aad4-4b83-bab4-98b82bba0483/assets\n"
     ]
    },
    {
     "name": "stderr",
     "output_type": "stream",
     "text": [
      "INFO:tensorflow:Assets written to: ram://b08652bf-aad4-4b83-bab4-98b82bba0483/assets\n"
     ]
    },
    {
     "name": "stdout",
     "output_type": "stream",
     "text": [
      "313/313 [==============================] - 1s 3ms/step - loss: 0.1690\n"
     ]
    },
    {
     "name": "stderr",
     "output_type": "stream",
     "text": [
      "WARNING:absl:Function `_wrapped_model` contains input name(s) inputLayer_input with unsupported characters which will be renamed to inputlayer_input in the SavedModel.\n"
     ]
    },
    {
     "name": "stdout",
     "output_type": "stream",
     "text": [
      "INFO:tensorflow:Assets written to: ram://5252cdf4-f41d-4efe-93a9-936d706aa3bf/assets\n"
     ]
    },
    {
     "name": "stderr",
     "output_type": "stream",
     "text": [
      "INFO:tensorflow:Assets written to: ram://5252cdf4-f41d-4efe-93a9-936d706aa3bf/assets\n",
      "WARNING:absl:Function `_wrapped_model` contains input name(s) inputLayer_input with unsupported characters which will be renamed to inputlayer_input in the SavedModel.\n"
     ]
    },
    {
     "name": "stdout",
     "output_type": "stream",
     "text": [
      "INFO:tensorflow:Assets written to: ram://52c7647f-d3b1-4400-b0bd-15b83399e458/assets\n"
     ]
    },
    {
     "name": "stderr",
     "output_type": "stream",
     "text": [
      "INFO:tensorflow:Assets written to: ram://52c7647f-d3b1-4400-b0bd-15b83399e458/assets\n"
     ]
    },
    {
     "data": {
      "text/plain": [
       "0.1689971685409546"
      ]
     },
     "execution_count": 7,
     "metadata": {},
     "output_type": "execute_result"
    }
   ],
   "source": [
    "model_clf.evaluate(X_test, y_test)"
   ]
  },
  {
   "cell_type": "markdown",
   "id": "8eba8a00-afdb-47a9-b4e5-493fbdf4716c",
   "metadata": {
    "canvas": {
     "comments": [],
     "componentType": "CodeCell",
     "copiedOriginId": null,
     "diskcache": false,
     "headerColor": "inherit",
     "id": "6ec01dd7-0f35-4ad7-888c-4a840bdec2ed",
     "isComponent": false,
     "name": "",
     "parents": []
    }
   },
   "source": [
    "# Save model"
   ]
  },
  {
   "cell_type": "code",
   "execution_count": 8,
   "id": "7a619fe1-0089-4ab2-b6d0-d2a3f0c4ebdb",
   "metadata": {
    "canvas": {
     "comments": [],
     "componentType": "CodeCell",
     "copiedOriginId": null,
     "diskcache": true,
     "headerColor": "inherit",
     "id": "8aca75ee-7f52-4a29-904a-2c2260b5a81f",
     "isComponent": true,
     "name": "Save model",
     "parents": [
      {
       "id": "5b1af4d5-950f-4bad-bfe1-f448ca1286b8",
       "name": "Evaluate model"
      }
     ]
    },
    "tags": []
   },
   "outputs": [
    {
     "name": "stdout",
     "output_type": "stream",
     "text": [
      "WARNING:tensorflow:Compiled the loaded model, but the compiled metrics have yet to be built. `model.compile_metrics` will be empty until you train or evaluate the model.\n"
     ]
    },
    {
     "name": "stderr",
     "output_type": "stream",
     "text": [
      "WARNING:tensorflow:Compiled the loaded model, but the compiled metrics have yet to be built. `model.compile_metrics` will be empty until you train or evaluate the model.\n",
      "WARNING:absl:Function `_wrapped_model` contains input name(s) inputLayer_input with unsupported characters which will be renamed to inputlayer_input in the SavedModel.\n"
     ]
    },
    {
     "name": "stdout",
     "output_type": "stream",
     "text": [
      "INFO:tensorflow:Assets written to: ram://80029625-341e-4a47-8b21-5015a61e5b0c/assets\n"
     ]
    },
    {
     "name": "stderr",
     "output_type": "stream",
     "text": [
      "INFO:tensorflow:Assets written to: ram://80029625-341e-4a47-8b21-5015a61e5b0c/assets\n",
      "WARNING:absl:Function `_wrapped_model` contains input name(s) inputLayer_input with unsupported characters which will be renamed to inputlayer_input in the SavedModel.\n"
     ]
    },
    {
     "name": "stdout",
     "output_type": "stream",
     "text": [
      "INFO:tensorflow:Assets written to: ram://bd4c2377-6d63-47c0-a765-fec223ed778b/assets\n"
     ]
    },
    {
     "name": "stderr",
     "output_type": "stream",
     "text": [
      "INFO:tensorflow:Assets written to: ram://bd4c2377-6d63-47c0-a765-fec223ed778b/assets\n",
      "WARNING:absl:Function `_wrapped_model` contains input name(s) inputLayer_input with unsupported characters which will be renamed to inputlayer_input in the SavedModel.\n"
     ]
    },
    {
     "name": "stdout",
     "output_type": "stream",
     "text": [
      "INFO:tensorflow:Assets written to: ram://c8e710e7-f090-44c5-b9d2-5b6e3d6338b0/assets\n"
     ]
    },
    {
     "name": "stderr",
     "output_type": "stream",
     "text": [
      "INFO:tensorflow:Assets written to: ram://c8e710e7-f090-44c5-b9d2-5b6e3d6338b0/assets\n",
      "WARNING:absl:Function `_wrapped_model` contains input name(s) inputLayer_input with unsupported characters which will be renamed to inputlayer_input in the SavedModel.\n"
     ]
    },
    {
     "name": "stdout",
     "output_type": "stream",
     "text": [
      "INFO:tensorflow:Assets written to: ram://417dac90-9204-4cb8-b58a-6c71ba1946b4/assets\n"
     ]
    },
    {
     "name": "stderr",
     "output_type": "stream",
     "text": [
      "INFO:tensorflow:Assets written to: ram://417dac90-9204-4cb8-b58a-6c71ba1946b4/assets\n",
      "WARNING:absl:Function `_wrapped_model` contains input name(s) inputLayer_input with unsupported characters which will be renamed to inputlayer_input in the SavedModel.\n"
     ]
    },
    {
     "name": "stdout",
     "output_type": "stream",
     "text": [
      "INFO:tensorflow:Assets written to: ram://c73e6083-647d-43f4-8bbf-61ab3ccfb31a/assets\n"
     ]
    },
    {
     "name": "stderr",
     "output_type": "stream",
     "text": [
      "INFO:tensorflow:Assets written to: ram://c73e6083-647d-43f4-8bbf-61ab3ccfb31a/assets\n",
      "WARNING:absl:Function `_wrapped_model` contains input name(s) inputLayer_input with unsupported characters which will be renamed to inputlayer_input in the SavedModel.\n"
     ]
    },
    {
     "name": "stdout",
     "output_type": "stream",
     "text": [
      "INFO:tensorflow:Assets written to: ram://51622aee-b6e5-4bcc-a5e0-dae1a4babeca/assets\n"
     ]
    },
    {
     "name": "stderr",
     "output_type": "stream",
     "text": [
      "INFO:tensorflow:Assets written to: ram://51622aee-b6e5-4bcc-a5e0-dae1a4babeca/assets\n",
      "WARNING:absl:Function `_wrapped_model` contains input name(s) inputLayer_input with unsupported characters which will be renamed to inputlayer_input in the SavedModel.\n"
     ]
    },
    {
     "name": "stdout",
     "output_type": "stream",
     "text": [
      "INFO:tensorflow:Assets written to: ram://90ebe231-8e3f-4e0f-b2c6-dfe3e25b1ffc/assets\n"
     ]
    },
    {
     "name": "stderr",
     "output_type": "stream",
     "text": [
      "INFO:tensorflow:Assets written to: ram://90ebe231-8e3f-4e0f-b2c6-dfe3e25b1ffc/assets\n",
      "WARNING:absl:Function `_wrapped_model` contains input name(s) inputLayer_input with unsupported characters which will be renamed to inputlayer_input in the SavedModel.\n"
     ]
    },
    {
     "name": "stdout",
     "output_type": "stream",
     "text": [
      "INFO:tensorflow:Assets written to: ram://5e5c93d1-93c7-450d-8222-6604678cd069/assets\n"
     ]
    },
    {
     "name": "stderr",
     "output_type": "stream",
     "text": [
      "INFO:tensorflow:Assets written to: ram://5e5c93d1-93c7-450d-8222-6604678cd069/assets\n"
     ]
    }
   ],
   "source": [
    "model_clf.save(\"mnist_full.h5\")"
   ]
  },
  {
   "cell_type": "markdown",
   "id": "5f802ffa-1c24-48a4-b617-87a7738acbfc",
   "metadata": {
    "canvas": {
     "comments": [],
     "componentType": "CodeCell",
     "copiedOriginId": null,
     "diskcache": false,
     "headerColor": "inherit",
     "id": "5aaf3a63-defe-4481-9f63-761f2cdd7de8",
     "isComponent": false,
     "name": "",
     "parents": []
    }
   },
   "source": [
    "# Inferencing"
   ]
  },
  {
   "cell_type": "code",
   "execution_count": 9,
   "id": "49c04800-beec-4081-8304-8c09e7c7a14e",
   "metadata": {
    "canvas": {
     "comments": [],
     "componentType": "CodeCell",
     "copiedOriginId": null,
     "diskcache": true,
     "headerColor": "inherit",
     "id": "e2c7c013-5313-4413-ac90-a55d5a47d571",
     "isComponent": true,
     "name": "Inferencing",
     "parents": [
      {
       "id": "8aca75ee-7f52-4a29-904a-2c2260b5a81f",
       "name": "Save model"
      }
     ]
    },
    "tags": []
   },
   "outputs": [
    {
     "name": "stdout",
     "output_type": "stream",
     "text": [
      "WARNING:tensorflow:Compiled the loaded model, but the compiled metrics have yet to be built. `model.compile_metrics` will be empty until you train or evaluate the model.\n"
     ]
    },
    {
     "name": "stderr",
     "output_type": "stream",
     "text": [
      "WARNING:tensorflow:Compiled the loaded model, but the compiled metrics have yet to be built. `model.compile_metrics` will be empty until you train or evaluate the model.\n",
      "WARNING:absl:Function `_wrapped_model` contains input name(s) inputLayer_input with unsupported characters which will be renamed to inputlayer_input in the SavedModel.\n"
     ]
    },
    {
     "name": "stdout",
     "output_type": "stream",
     "text": [
      "INFO:tensorflow:Assets written to: ram://709b1242-0380-4bf7-a9a3-68ced3c01419/assets\n"
     ]
    },
    {
     "name": "stderr",
     "output_type": "stream",
     "text": [
      "INFO:tensorflow:Assets written to: ram://709b1242-0380-4bf7-a9a3-68ced3c01419/assets\n",
      "WARNING:absl:Function `_wrapped_model` contains input name(s) inputLayer_input with unsupported characters which will be renamed to inputlayer_input in the SavedModel.\n"
     ]
    },
    {
     "name": "stdout",
     "output_type": "stream",
     "text": [
      "INFO:tensorflow:Assets written to: ram://c3f49d0e-daa2-45b1-9263-f61e6e019ad4/assets\n"
     ]
    },
    {
     "name": "stderr",
     "output_type": "stream",
     "text": [
      "INFO:tensorflow:Assets written to: ram://c3f49d0e-daa2-45b1-9263-f61e6e019ad4/assets\n",
      "WARNING:absl:Function `_wrapped_model` contains input name(s) inputLayer_input with unsupported characters which will be renamed to inputlayer_input in the SavedModel.\n"
     ]
    },
    {
     "name": "stdout",
     "output_type": "stream",
     "text": [
      "INFO:tensorflow:Assets written to: ram://f2522daa-ba44-4a5b-ac33-ef33ac5b27ad/assets\n"
     ]
    },
    {
     "name": "stderr",
     "output_type": "stream",
     "text": [
      "INFO:tensorflow:Assets written to: ram://f2522daa-ba44-4a5b-ac33-ef33ac5b27ad/assets\n",
      "WARNING:absl:Function `_wrapped_model` contains input name(s) inputLayer_input with unsupported characters which will be renamed to inputlayer_input in the SavedModel.\n"
     ]
    },
    {
     "name": "stdout",
     "output_type": "stream",
     "text": [
      "INFO:tensorflow:Assets written to: ram://9137e616-1ab1-4e3b-a1f4-f7115fc1d232/assets\n"
     ]
    },
    {
     "name": "stderr",
     "output_type": "stream",
     "text": [
      "INFO:tensorflow:Assets written to: ram://9137e616-1ab1-4e3b-a1f4-f7115fc1d232/assets\n",
      "WARNING:absl:Function `_wrapped_model` contains input name(s) inputLayer_input with unsupported characters which will be renamed to inputlayer_input in the SavedModel.\n"
     ]
    },
    {
     "name": "stdout",
     "output_type": "stream",
     "text": [
      "INFO:tensorflow:Assets written to: ram://51aacd9a-aa47-4ac4-8e72-23b0577f5342/assets\n"
     ]
    },
    {
     "name": "stderr",
     "output_type": "stream",
     "text": [
      "INFO:tensorflow:Assets written to: ram://51aacd9a-aa47-4ac4-8e72-23b0577f5342/assets\n",
      "WARNING:absl:Function `_wrapped_model` contains input name(s) inputLayer_input with unsupported characters which will be renamed to inputlayer_input in the SavedModel.\n"
     ]
    },
    {
     "name": "stdout",
     "output_type": "stream",
     "text": [
      "INFO:tensorflow:Assets written to: ram://fa4a5e37-416a-48f4-8e36-2e969e7395cc/assets\n"
     ]
    },
    {
     "name": "stderr",
     "output_type": "stream",
     "text": [
      "INFO:tensorflow:Assets written to: ram://fa4a5e37-416a-48f4-8e36-2e969e7395cc/assets\n",
      "WARNING:absl:Function `_wrapped_model` contains input name(s) inputLayer_input with unsupported characters which will be renamed to inputlayer_input in the SavedModel.\n"
     ]
    },
    {
     "name": "stdout",
     "output_type": "stream",
     "text": [
      "INFO:tensorflow:Assets written to: ram://79eaa229-ccc1-4040-89e5-2d8f41b4750a/assets\n"
     ]
    },
    {
     "name": "stderr",
     "output_type": "stream",
     "text": [
      "INFO:tensorflow:Assets written to: ram://79eaa229-ccc1-4040-89e5-2d8f41b4750a/assets\n",
      "WARNING:absl:Function `_wrapped_model` contains input name(s) inputLayer_input with unsupported characters which will be renamed to inputlayer_input in the SavedModel.\n"
     ]
    },
    {
     "name": "stdout",
     "output_type": "stream",
     "text": [
      "INFO:tensorflow:Assets written to: ram://40751365-85c7-4ceb-b7b8-e682f156dcf6/assets\n"
     ]
    },
    {
     "name": "stderr",
     "output_type": "stream",
     "text": [
      "INFO:tensorflow:Assets written to: ram://40751365-85c7-4ceb-b7b8-e682f156dcf6/assets\n"
     ]
    },
    {
     "name": "stdout",
     "output_type": "stream",
     "text": [
      "1/1 [==============================] - 0s 112ms/step\n"
     ]
    },
    {
     "data": {
      "image/png": "[encoded data removed]",
      "text/plain": [
       "<Figure size 640x480 with 1 Axes>"
      ]
     },
     "metadata": {},
     "output_type": "display_data"
    },
    {
     "name": "stdout",
     "output_type": "stream",
     "text": [
      "------------------------------------------------------------\n"
     ]
    },
    {
     "data": {
      "image/png": "[encoded data removed]",
      "text/plain": [
       "<Figure size 640x480 with 1 Axes>"
      ]
     },
     "metadata": {},
     "output_type": "display_data"
    },
    {
     "name": "stdout",
     "output_type": "stream",
     "text": [
      "------------------------------------------------------------\n"
     ]
    },
    {
     "data": {
      "image/png": "[encoded data removed]",
      "text/plain": [
       "<Figure size 640x480 with 1 Axes>"
      ]
     },
     "metadata": {},
     "output_type": "display_data"
    },
    {
     "name": "stdout",
     "output_type": "stream",
     "text": [
      "------------------------------------------------------------\n"
     ]
    },
    {
     "name": "stderr",
     "output_type": "stream",
     "text": [
      "WARNING:absl:Function `_wrapped_model` contains input name(s) inputLayer_input with unsupported characters which will be renamed to inputlayer_input in the SavedModel.\n"
     ]
    },
    {
     "name": "stdout",
     "output_type": "stream",
     "text": [
      "INFO:tensorflow:Assets written to: ram://f0a46a72-f832-4867-88cc-8b8d60c94c4a/assets\n"
     ]
    },
    {
     "name": "stderr",
     "output_type": "stream",
     "text": [
      "INFO:tensorflow:Assets written to: ram://f0a46a72-f832-4867-88cc-8b8d60c94c4a/assets\n",
      "WARNING:absl:Function `_wrapped_model` contains input name(s) inputLayer_input with unsupported characters which will be renamed to inputlayer_input in the SavedModel.\n"
     ]
    },
    {
     "name": "stdout",
     "output_type": "stream",
     "text": [
      "INFO:tensorflow:Assets written to: ram://127fcac2-f82c-4fb0-9a64-fc45a45f8b87/assets\n"
     ]
    },
    {
     "name": "stderr",
     "output_type": "stream",
     "text": [
      "INFO:tensorflow:Assets written to: ram://127fcac2-f82c-4fb0-9a64-fc45a45f8b87/assets\n"
     ]
    }
   ],
   "source": [
    "X_new = X_test[:3]\n",
    "\n",
    "y_prob = model_clf.predict(X_new)\n",
    "Y_pred = np.argmax(y_prob, axis=-1)\n",
    "\n",
    "for img_array, pred, actual in zip(X_new, Y_pred, y_test[:3]):\n",
    "    plt.imshow(img_array, cmap=\"gray\")\n",
    "    plt.title(f\"predicted: {pred}, actual: {actual}\")\n",
    "    plt.axis(\"off\")\n",
    "    plt.show()\n",
    "    print(\"--\"*30)"
   ]
  },
  {
   "cell_type": "code",
   "execution_count": null,
   "id": "f43404bd-5f79-4a61-ad8f-4a71c9b3a0e7",
   "metadata": {
    "canvas": {
     "comments": [],
     "componentType": "CodeCell",
     "copiedOriginId": null,
     "diskcache": false,
     "headerColor": "inherit",
     "id": "9471752a-e32f-4bb0-8a4f-614c58d04e08",
     "isComponent": false,
     "name": "",
     "parents": []
    }
   },
   "outputs": [],
   "source": []
  }
 ],
 "metadata": {
  "canvas": {
   "colorPalette": [
    "inherit",
    "inherit",
    "inherit",
    "inherit",
    "inherit",
    "inherit",
    "inherit",
    "inherit",
    "inherit",
    "inherit"
   ],
   "parameters": [],
   "version": "1.0"
  },
  "kernelspec": {
   "display_name": "Python 3 (ipykernel)",
   "language": "python",
   "name": "python3"
  },
  "language_info": {
   "codemirror_mode": {
    "name": "ipython",
    "version": 3
   },
   "file_extension": ".py",
   "mimetype": "text/x-python",
   "name": "python",
   "nbconvert_exporter": "python",
   "pygments_lexer": "ipython3",
   "version": "3.8.13"
  }
 },
 "nbformat": 4,
 "nbformat_minor": 5
}
